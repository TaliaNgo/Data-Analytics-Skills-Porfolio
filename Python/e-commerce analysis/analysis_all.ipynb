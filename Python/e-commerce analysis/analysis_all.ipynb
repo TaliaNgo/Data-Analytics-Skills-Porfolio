{
 "cells": [
  {
   "cell_type": "markdown",
   "metadata": {},
   "source": [
    "## Analysis of an E-Commerce Dataset\n",
    "### Introduction\n",
    "### Part 1. EDA\n",
    "1. Remove records where:\n",
    " * gender/rating/helpfulness is missing\n",
    " * review is 'none'"
   ]
  },
  {
   "cell_type": "code",
   "execution_count": 5,
   "metadata": {},
   "outputs": [
    {
     "data": {
      "text/html": [
       "<div>\n",
       "<style scoped>\n",
       "    .dataframe tbody tr th:only-of-type {\n",
       "        vertical-align: middle;\n",
       "    }\n",
       "\n",
       "    .dataframe tbody tr th {\n",
       "        vertical-align: top;\n",
       "    }\n",
       "\n",
       "    .dataframe thead th {\n",
       "        text-align: right;\n",
       "    }\n",
       "</style>\n",
       "<table border=\"1\" class=\"dataframe\">\n",
       "  <thead>\n",
       "    <tr style=\"text-align: right;\">\n",
       "      <th></th>\n",
       "      <th>userId</th>\n",
       "      <th>timestamp</th>\n",
       "      <th>review</th>\n",
       "      <th>item</th>\n",
       "      <th>rating</th>\n",
       "      <th>helpfulness</th>\n",
       "      <th>gender</th>\n",
       "      <th>category</th>\n",
       "      <th>item_id</th>\n",
       "      <th>item_price</th>\n",
       "      <th>user_city</th>\n",
       "    </tr>\n",
       "  </thead>\n",
       "  <tbody>\n",
       "    <tr>\n",
       "      <th>0</th>\n",
       "      <td>4051</td>\n",
       "      <td>12807</td>\n",
       "      <td>Great job for what it is!</td>\n",
       "      <td>eBay</td>\n",
       "      <td>5.0</td>\n",
       "      <td>2.0</td>\n",
       "      <td>F</td>\n",
       "      <td>Online Stores &amp; Services</td>\n",
       "      <td>88</td>\n",
       "      <td>149.00</td>\n",
       "      <td>39</td>\n",
       "    </tr>\n",
       "    <tr>\n",
       "      <th>1</th>\n",
       "      <td>4052</td>\n",
       "      <td>122899</td>\n",
       "      <td>Free Access Worth your Time</td>\n",
       "      <td>NetZero</td>\n",
       "      <td>5.0</td>\n",
       "      <td>0.0</td>\n",
       "      <td>F</td>\n",
       "      <td>Online Stores &amp; Services</td>\n",
       "      <td>46</td>\n",
       "      <td>53.00</td>\n",
       "      <td>39</td>\n",
       "    </tr>\n",
       "    <tr>\n",
       "      <th>2</th>\n",
       "      <td>33</td>\n",
       "      <td>12700</td>\n",
       "      <td>AOL..I love you!!!!!!!!!!!!</td>\n",
       "      <td>AOL (America Online)</td>\n",
       "      <td>5.0</td>\n",
       "      <td>4.0</td>\n",
       "      <td>F</td>\n",
       "      <td>Online Stores &amp; Services</td>\n",
       "      <td>0</td>\n",
       "      <td>145.84</td>\n",
       "      <td>31</td>\n",
       "    </tr>\n",
       "    <tr>\n",
       "      <th>3</th>\n",
       "      <td>33</td>\n",
       "      <td>21000</td>\n",
       "      <td>EBAY!!!  I LOVE YOU!!!! :-)*</td>\n",
       "      <td>eBay</td>\n",
       "      <td>5.0</td>\n",
       "      <td>4.0</td>\n",
       "      <td>F</td>\n",
       "      <td>Online Stores &amp; Services</td>\n",
       "      <td>88</td>\n",
       "      <td>149.00</td>\n",
       "      <td>31</td>\n",
       "    </tr>\n",
       "    <tr>\n",
       "      <th>4</th>\n",
       "      <td>33</td>\n",
       "      <td>22300</td>\n",
       "      <td>Blair Witch...Oh Come On.......</td>\n",
       "      <td>Blair Witch Project</td>\n",
       "      <td>1.0</td>\n",
       "      <td>4.0</td>\n",
       "      <td>F</td>\n",
       "      <td>Movies</td>\n",
       "      <td>12</td>\n",
       "      <td>44.00</td>\n",
       "      <td>31</td>\n",
       "    </tr>\n",
       "  </tbody>\n",
       "</table>\n",
       "</div>"
      ],
      "text/plain": [
       "   userId  timestamp                           review                  item  \\\n",
       "0    4051      12807        Great job for what it is!                  eBay   \n",
       "1    4052     122899      Free Access Worth your Time               NetZero   \n",
       "2      33      12700    AOL..I love you!!!!!!!!!!!!    AOL (America Online)   \n",
       "3      33      21000     EBAY!!!  I LOVE YOU!!!! :-)*                  eBay   \n",
       "4      33      22300  Blair Witch...Oh Come On.......   Blair Witch Project   \n",
       "\n",
       "   rating  helpfulness gender                  category  item_id  item_price  \\\n",
       "0     5.0          2.0      F  Online Stores & Services       88      149.00   \n",
       "1     5.0          0.0      F  Online Stores & Services       46       53.00   \n",
       "2     5.0          4.0      F  Online Stores & Services        0      145.84   \n",
       "3     5.0          4.0      F  Online Stores & Services       88      149.00   \n",
       "4     1.0          4.0      F                    Movies       12       44.00   \n",
       "\n",
       "   user_city  \n",
       "0         39  \n",
       "1         39  \n",
       "2         31  \n",
       "3         31  \n",
       "4         31  "
      ]
     },
     "execution_count": 5,
     "metadata": {},
     "output_type": "execute_result"
    }
   ],
   "source": [
    "# import pandas and csv file\n",
    "import pandas as pd\n",
    "ec = pd.read_csv('E-commerce Dataset (p1).csv')\n",
    "\n",
    "# display dataframe - before \n",
    "ec.head()"
   ]
  },
  {
   "cell_type": "code",
   "execution_count": 6,
   "metadata": {},
   "outputs": [
    {
     "name": "stdout",
     "output_type": "stream",
     "text": [
      "userId          0\n",
      "timestamp       0\n",
      "review          0\n",
      "item            0\n",
      "rating         17\n",
      "helpfulness    22\n",
      "gender         27\n",
      "category        0\n",
      "item_id         0\n",
      "item_price      0\n",
      "user_city       0\n",
      "dtype: int64\n",
      "20000\n"
     ]
    }
   ],
   "source": [
    "# count Null values - before\n",
    "print(ec.isnull().sum())\n",
    "\n",
    "# print length before removing records\n",
    "print(len(ec))"
   ]
  },
  {
   "cell_type": "code",
   "execution_count": 7,
   "metadata": {},
   "outputs": [
    {
     "name": "stdout",
     "output_type": "stream",
     "text": [
      "19916\n"
     ]
    }
   ],
   "source": [
    "# remove missing data - is this the best way to handle null values?\n",
    "ec_clean = ec.dropna()\n",
    "ec_clean = ec_clean[ec_clean.review != 'none']\n",
    "\n",
    "# print length after\n",
    "print(len(ec_clean))"
   ]
  },
  {
   "cell_type": "markdown",
   "metadata": {},
   "source": [
    "Descriptive Statistics\n",
    "\n",
    "* Q2.1 total number of unique users, unique reviews, unique items, and unique categories\n",
    "* Q2.2 descriptive statistics, e.g., the total number, mean, std, min and max regarding all rating records\n",
    "* Q2.3 descriptive statistics, e.g., mean, std, max, and min of the number of items rated by different genders \n",
    "* Q2.4 descriptive statistics, e.g., mean, std, max, min of the number of ratings that received by each items "
   ]
  },
  {
   "cell_type": "code",
   "execution_count": 8,
   "metadata": {},
   "outputs": [
    {
     "name": "stdout",
     "output_type": "stream",
     "text": [
      "Number of unique users: 8562\n",
      "Number of unique reviews: 19459\n",
      "Number of unique items: 89\n",
      "Number of unique categories: 9\n"
     ]
    }
   ],
   "source": [
    "## Q2.1\n",
    "print(\"Number of unique users:\", ec_clean.userId.nunique())\n",
    "print(\"Number of unique reviews:\", ec_clean.review.nunique())\n",
    "print(\"Number of unique items:\", ec_clean.item.nunique())\n",
    "print(\"Number of unique categories:\", ec_clean.category.nunique())"
   ]
  },
  {
   "cell_type": "code",
   "execution_count": 9,
   "metadata": {},
   "outputs": [
    {
     "data": {
      "text/plain": [
       "count    19916.000000\n",
       "mean         3.701798\n",
       "std          1.404451\n",
       "min          1.000000\n",
       "25%          3.000000\n",
       "50%          4.000000\n",
       "75%          5.000000\n",
       "max          5.000000\n",
       "Name: rating, dtype: float64"
      ]
     },
     "execution_count": 9,
     "metadata": {},
     "output_type": "execute_result"
    }
   ],
   "source": [
    "## Q2.2 - for all rating records\n",
    "ec_clean.rating.describe()"
   ]
  },
  {
   "cell_type": "code",
   "execution_count": 10,
   "metadata": {},
   "outputs": [
    {
     "data": {
      "text/plain": [
       "count        2.000000\n",
       "mean      9958.000000\n",
       "std        233.345238\n",
       "min       9793.000000\n",
       "25%       9875.500000\n",
       "50%       9958.000000\n",
       "75%      10040.500000\n",
       "max      10123.000000\n",
       "Name: item, dtype: float64"
      ]
     },
     "execution_count": 10,
     "metadata": {},
     "output_type": "execute_result"
    }
   ],
   "source": [
    "## Q2.3 - for the number of items rated by different genders\n",
    "ec_clean.groupby(\"gender\")[\"item\"].count().describe()"
   ]
  },
  {
   "cell_type": "code",
   "execution_count": 11,
   "metadata": {},
   "outputs": [
    {
     "data": {
      "text/plain": [
       "count     89.000000\n",
       "mean     223.775281\n",
       "std      116.418988\n",
       "min      139.000000\n",
       "25%      162.000000\n",
       "50%      187.000000\n",
       "75%      245.000000\n",
       "max      939.000000\n",
       "Name: rating, dtype: float64"
      ]
     },
     "execution_count": 11,
     "metadata": {},
     "output_type": "execute_result"
    }
   ],
   "source": [
    "## Q2.4 - for the number of ratings received by each items\n",
    "ec_clean.groupby(\"item\")[\"rating\"].count().describe()"
   ]
  },
  {
   "cell_type": "markdown",
   "metadata": {},
   "source": [
    "#### Q3. Plotting and Analysis\n",
    "\n",
    "Please try to explore the correlation between gender/helpfulness/category and ratings; for instance, do female/male users tend to provide higher ratings than male/female users? Hint: you may use the boxplot function to plot figures for comparison (___Challenge___)\n",
    "    \n",
    "You may need to select the most suitable graphic forms for ease of presentation. Most importantly, for each figure or subfigure, please summarise ___what each plot shows___ (i.e. observations and explanations). Finally, you may need to provide an overall summary of the data."
   ]
  },
  {
   "cell_type": "code",
   "execution_count": null,
   "metadata": {},
   "outputs": [],
   "source": [
    "# your code and solutions \n",
    "import matplotlib.pyplot as plt\n",
    "%matplotlib inline\n",
    "import seaborn as sns"
   ]
  },
  {
   "cell_type": "code",
   "execution_count": null,
   "metadata": {},
   "outputs": [],
   "source": [
    "# boxplot for gender vs rating \n",
    "ec_clean.boxplot('rating', by='gender').get_figure().suptitle('')\n",
    "plt.title('Boxplot of Ratings by Gender')\n",
    "plt.xlabel('Gender')\n",
    "plt.ylabel('Rating')"
   ]
  },
  {
   "cell_type": "markdown",
   "metadata": {},
   "source": [
    "### Analysis\n",
    "We can see from the boxplot that the distribution and spread of both genders are the same. This means that there is no correlation between gender and rating, in other words, rating doesn't depend on gender."
   ]
  },
  {
   "cell_type": "code",
   "execution_count": null,
   "metadata": {},
   "outputs": [],
   "source": [
    "# boxplot for helpfulness vs rating\n",
    "ec_clean.boxplot('rating', by='helpfulness').get_figure().suptitle('')\n",
    "plt.title('Boxplot of Ratings by Helpfulness')\n",
    "plt.xlabel('Helpfulness')\n",
    "plt.ylabel('Rating')"
   ]
  },
  {
   "cell_type": "markdown",
   "metadata": {},
   "source": [
    "### Analysis\n",
    "The boxplot shows that there is also little correlation between helpfulness rating and product rating, based on the similar distributions and spreads. Most people rate the helpfulness of ratings between 3.0 and 5.0. For helpfulness rating of 2.0, the distribution is a bit different, ranging from 2.0 to 5.0 instead of 3.0 to 5.0 like other helpfulness rating."
   ]
  },
  {
   "cell_type": "code",
   "execution_count": null,
   "metadata": {},
   "outputs": [],
   "source": [
    "# category vs rating\n",
    "ec_clean.boxplot('rating', by='category').get_figure().suptitle('')\n",
    "plt.xticks(rotation=45, ha='right', fontsize=8)\n",
    "plt.title('Boxplot of Ratings by Categories')\n",
    "plt.xlabel('Category')\n",
    "plt.ylabel('Rating')"
   ]
  },
  {
   "cell_type": "markdown",
   "metadata": {},
   "source": [
    "### Analysis\n",
    "The plot shows the correlation of category and rating. The ratings are different between the categories, so there is correlation between the two.\n",
    "- For Books: people rate really high for this category, with most are 5.0 rating. \n",
    "- For Games: people also rate quite high in this category, with the distribution ranging from 4.0 to 5.0, with some outliers of 1.0 and 2.0.\n",
    "- For Media: this is the category that receives the lowest rating. The distribution of the rating is from 1.0 to 4.0, with 50% of the ratings are between 1.0 to 2.0. \n",
    "- For Movies: again, the ratings are quite high, with the distribution ranging from 3.0 to 5.0.\n",
    "- The remaining categories have similar spreads and distributions.\n",
    "\n",
    "### Summary of the data\n",
    "- This dataset contains 20000 records, but after removing null values, there are only 19916 records left, which is a relatively small dataset.\n",
    "- There are a total of 8562 customers, 19459 reviews for 89 items, and 9 categories. \n",
    "- The average rating that people give is 3.7. The average helpfulness rating is lower, at 2.6.\n",
    "- Helpfulness rating and gender don't affect the ratings of items. However, there are some differences in ratings between different categories. \n",
    "\n",
    "#### Q4. Detect and remove outliers\n",
    "\n",
    "We may define outlier users, reviews and items with three rules (if a record meets one of the rules, it is regarded as an outlier):\n",
    "\n",
    "* reviews of which the helpfulness is no more than 2\n",
    "* users who rate less than 7 items\n",
    "* items that receives less than 11 ratings \n",
    " \n",
    "Please remove the corresponding records in the csv file that involves outlier users, reviews and items. After that, __print the length of the data__."
   ]
  },
  {
   "cell_type": "code",
   "execution_count": null,
   "metadata": {},
   "outputs": [],
   "source": [
    "# your code and solutions\n",
    "# rule 1\n",
    "ec1 = ec_clean[~(ec_clean.helpfulness <= 2)]\n",
    "ec1.head()"
   ]
  },
  {
   "cell_type": "code",
   "execution_count": null,
   "metadata": {},
   "outputs": [],
   "source": [
    "# rule 2\n",
    "# create a df with users and the number of times they rate\n",
    "r2 = (ec1.groupby('userId')['item'].count()).reset_index()\n",
    "\n",
    "# choose rows with users rate < 7 times\n",
    "r2 = r2[(r2.item < 7)]\n",
    "\n",
    "# create a list of userId who rate < 7 times\n",
    "r2Id = r2.userId.tolist()\n",
    "\n",
    "# drop outliers\n",
    "ec2 = ec1[~(ec1.userId.isin(r2Id))]\n",
    "ec2.head()"
   ]
  },
  {
   "cell_type": "code",
   "execution_count": null,
   "metadata": {},
   "outputs": [],
   "source": [
    "# rule 3 \n",
    "# create a df with items and the number of ratings they receive\n",
    "r3 = (ec2.groupby('item')['rating'].count()).reset_index()\n",
    "\n",
    "# choose rows with # of ratings < 11\n",
    "r3 = r3[(r3.rating < 11)]\n",
    "\n",
    "# create a list of items that have < 11 ratings\n",
    "r3Id = r3.item.tolist()\n",
    "\n",
    "# drop outliers\n",
    "ec3 = ec2[~(ec2.item.isin(r3Id))]\n",
    "ec3.head()\n",
    "\n",
    "# print length of the final df\n",
    "print(len(ec3))"
   ]
  }
 ],
 "metadata": {
  "kernelspec": {
   "display_name": "base",
   "language": "python",
   "name": "python3"
  },
  "language_info": {
   "codemirror_mode": {
    "name": "ipython",
    "version": 3
   },
   "file_extension": ".py",
   "mimetype": "text/x-python",
   "name": "python",
   "nbconvert_exporter": "python",
   "pygments_lexer": "ipython3",
   "version": "3.11.3"
  }
 },
 "nbformat": 4,
 "nbformat_minor": 2
}
